{
 "cells": [
  {
   "cell_type": "code",
   "execution_count": 55,
   "metadata": {},
   "outputs": [],
   "source": [
    "# example queries\n",
    "# 'COVID Vaccine since:2021-01-01 until:2021-05-31'\n",
    "\n",
    "import snscrape.modules.twitter as sntwitter\n",
    "import pandas as pd\n",
    "\n",
    "tweets_list = []\n",
    "\n",
    "for i, tweet in enumerate(sntwitter.TwitterSearchScraper('\"Digital Humanities\" until:2021-02-01').get_items()): #declare a username \n",
    "    #if i > 1000000: \n",
    "    #    break\n",
    "    tweets_list.append([tweet.date, tweet.id, tweet.content, tweet.user.username])\n",
    "\n",
    "tweets_df1 = pd.DataFrame(tweets_list, columns=['Datetime', 'Tweet Id', 'text', 'Username'])\n",
    "\n",
    "test = tweets_df1[tweets_df1['text'].str.contains('job|postdoc', case = False)]\n",
    "test = test[test['text'].str.contains('https', case = False)]\n",
    "\n",
    "#df = tweets_df1[tweets_df1['text'].str.contains('https://') == True]"
   ]
  },
  {
   "cell_type": "code",
   "execution_count": 1,
   "metadata": {},
   "outputs": [
    {
     "ename": "NameError",
     "evalue": "name 'test' is not defined",
     "output_type": "error",
     "traceback": [
      "\u001b[0;31m---------------------------------------------------------------------------\u001b[0m",
      "\u001b[0;31mNameError\u001b[0m                                 Traceback (most recent call last)",
      "\u001b[1;32m/home/stephbuon/projects/job-searcher/job-searcher.ipynb Cell 2'\u001b[0m in \u001b[0;36m<module>\u001b[0;34m\u001b[0m\n\u001b[0;32m----> <a href='vscode-notebook-cell:/home/stephbuon/projects/job-searcher/job-searcher.ipynb#ch0000001?line=0'>1</a>\u001b[0m test\n",
      "\u001b[0;31mNameError\u001b[0m: name 'test' is not defined"
     ]
    }
   ],
   "source": [
    "test"
   ]
  },
  {
   "cell_type": "code",
   "execution_count": 52,
   "metadata": {},
   "outputs": [],
   "source": [
    "test.to_csv('/home/stephbuon/projects/job-searcher/jobs.csv')"
   ]
  }
 ],
 "metadata": {
  "interpreter": {
   "hash": "1246881bfd89acece18a9dd9dc461e2ed2f35d217549cef021487bc1a606ff0e"
  },
  "kernelspec": {
   "display_name": "Python 3.9.7 ('venv': venv)",
   "language": "python",
   "name": "python3"
  },
  "language_info": {
   "codemirror_mode": {
    "name": "ipython",
    "version": 3
   },
   "file_extension": ".py",
   "mimetype": "text/x-python",
   "name": "python",
   "nbconvert_exporter": "python",
   "pygments_lexer": "ipython3",
   "version": "3.9.7"
  },
  "orig_nbformat": 4
 },
 "nbformat": 4,
 "nbformat_minor": 2
}
